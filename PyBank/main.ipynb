{
 "cells": [
  {
   "cell_type": "code",
   "execution_count": 1,
   "metadata": {},
   "outputs": [],
   "source": [
    "from pathlib import Path\n",
    "import csv\n",
    "\n",
    "csvpath = Path(\"../PyBank/budget_data.csv\")\n",
    "\n",
    "sales = []\n",
    "sales_data = {}\n",
    "max_key = 0\n",
    "max_value = 0\n",
    "min_key = 0\n",
    "min_value = 0\n",
    "months = 0\n",
    "initial_value = 0\n",
    "changes = []\n",
    "\n",
    "with open(csvpath, 'r') as csvfile:\n",
    "    \n",
    "    csvreader = csv.reader(csvfile, delimiter=',')\n",
    "    header = next(csvreader)\n",
    "    \n",
    "    for row in csvreader:\n",
    "        \n",
    "        sales_data[row[0]] = round(float(row[1]),2)\n",
    "        months += 1\n",
    "        sales.append(round(float(row[1]),2))\n",
    "\n",
    "for key, value in sales_data.items():\n",
    "    \n",
    "    if min_value == 0:\n",
    "        min_value = value\n",
    "        min_key = key\n",
    "    elif value < min_value:\n",
    "            min_value = value\n",
    "            min_key = key\n",
    "    elif value > max_value:\n",
    "            max_value = value\n",
    "            max_key = key\n",
    "\n",
    "    if initial_value == 0:\n",
    "        initial_value = value\n",
    "    else:\n",
    "        change = value - initial_value\n",
    "        changes.append(change)\n",
    "        initial_value = value         \n",
    "        \n",
    "average_change = round(sum(changes)/len(changes),2) \n",
    "\n",
    "output_path = Path('sales_analysis.txt')\n",
    "\n",
    "with open(output_path, 'w') as file:\n",
    "    file.write(\"Financial Analysis\" + \"\\n----------------------------\")\n",
    "    file.write(f\"\\nTotal Months: {months}\" + f\"\\nTotal: ${sum(sales)}\")\n",
    "    file.write(f\"\\nAverage Change: ${average_change}\")\n",
    "    file.write(f\"\\nGreatest Increase in Profits: {max_key} ${max_value}\") \n",
    "    file.write(f\"\\nGreatest Decrease in Profits: {min_key} ${min_value}\")"
   ]
  },
  {
   "cell_type": "code",
   "execution_count": null,
   "metadata": {},
   "outputs": [],
   "source": []
  },
  {
   "cell_type": "code",
   "execution_count": null,
   "metadata": {},
   "outputs": [],
   "source": []
  },
  {
   "cell_type": "code",
   "execution_count": null,
   "metadata": {},
   "outputs": [],
   "source": []
  }
 ],
 "metadata": {
  "kernelspec": {
   "display_name": "Python 3",
   "language": "python",
   "name": "python3"
  },
  "language_info": {
   "codemirror_mode": {
    "name": "ipython",
    "version": 3
   },
   "file_extension": ".py",
   "mimetype": "text/x-python",
   "name": "python",
   "nbconvert_exporter": "python",
   "pygments_lexer": "ipython3",
   "version": "3.7.7"
  }
 },
 "nbformat": 4,
 "nbformat_minor": 4
}
