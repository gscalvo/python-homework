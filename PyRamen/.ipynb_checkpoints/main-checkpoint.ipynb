{
 "cells": [
  {
   "cell_type": "code",
   "execution_count": 1,
   "metadata": {},
   "outputs": [],
   "source": [
    "from pathlib import Path\n",
    "import csv\n",
    "\n",
    "menu_data = Path(\"../PyRamen/menu_data.csv\")\n",
    "sales_data = Path(\"../PyRamen/sales_data.csv\")\n",
    "\n",
    "menu_items = []\n",
    "sales_info = []\n",
    "\n",
    "report = {}\n",
    "         \n",
    "with open(menu_data, 'r') as menu:\n",
    "    \n",
    "    menu_reader = csv.reader(menu, delimiter=',')\n",
    "    header = next(menu_reader)\n",
    "    \n",
    "    for row in menu_reader:\n",
    "        if row[1] == \"entree\":\n",
    "            menu_items.append([row[0],int(row[3]),int(row[4])])\n",
    "            report[row[0]] = {\n",
    "                \"01-count\" : 0, \n",
    "                \"02-revenue\" :0,\n",
    "                \"03-cogs\" :0,\n",
    "                \"04-profit\" :0,\n",
    "            }\n",
    "        \n",
    "with open(sales_data, 'r') as sales:\n",
    "    \n",
    "    sales_reader = csv.reader(sales, delimiter=',')\n",
    "    header = next(sales_reader)\n",
    "    \n",
    "    for row in sales_reader:\n",
    "        sales_info.append([row[4],int(row[3])])\n",
    "        \n",
    "for loop in menu_items:\n",
    "    \n",
    "    name = loop[0]\n",
    "    price = loop[1]\n",
    "    cost = loop[2]\n",
    "    profit = price - cost\n",
    "    for row in sales_info:\n",
    "        \n",
    "        if row[0] == name:\n",
    "            \n",
    "            quantity = row[1]\n",
    "            report[name][\"01-count\"] += quantity\n",
    "            report[name][\"02-revenue\"] += quantity * price\n",
    "            report[name][\"03-cogs\"] += quantity * cost\n",
    "            report[name][\"04-profit\"] += quantity * profit\n",
    "\n",
    "output_path = Path('sales_analysis.txt')\n",
    "\n",
    "with open(output_path, 'w') as file:\n",
    "    for menu in menu_items:\n",
    "        \n",
    "        file.write(f\"{menu[0]}\" + f\" {report[menu[0]]}\\n\")"
   ]
  },
  {
   "cell_type": "code",
   "execution_count": null,
   "metadata": {},
   "outputs": [],
   "source": []
  }
 ],
 "metadata": {
  "kernelspec": {
   "display_name": "Python 3",
   "language": "python",
   "name": "python3"
  },
  "language_info": {
   "codemirror_mode": {
    "name": "ipython",
    "version": 3
   },
   "file_extension": ".py",
   "mimetype": "text/x-python",
   "name": "python",
   "nbconvert_exporter": "python",
   "pygments_lexer": "ipython3",
   "version": "3.7.7"
  }
 },
 "nbformat": 4,
 "nbformat_minor": 4
}
