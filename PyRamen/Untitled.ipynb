{
 "cells": [
  {
   "cell_type": "code",
   "execution_count": null,
   "metadata": {},
   "outputs": [],
   "source": [
    "for loop in menu_items:\n",
    "    \n",
    "    name = loop[0]\n",
    "    price = loop[1]\n",
    "    cost = loop[2]\n",
    "    profit = price - cost\n",
    "    \n",
    "    for row in sales_info:\n",
    "        \n",
    "        if row[0] == name:\n",
    "            \n",
    "            quantity = row[1]\n",
    "            report[name][\"01-count\"] += quantity\n",
    "            report[name][\"02-revenue\"] += quantity * price\n",
    "            report[name][\"03-cogs\"] += quantity * cost\n",
    "            report[name][\"04-profit\"] += quantity * profit\n",
    "            \n",
    "## Script to publish results as text file\n",
    "\n",
    "output_path = Path('sales_analysis.txt')\n",
    "\n",
    "with open(output_path, 'w') as file:\n",
    "    for menu in menu_items:\n",
    "        \n",
    "        file.write(f\"{menu[0]}\" + f\" {report[menu[0]]}\\n\")"
   ]
  }
 ],
 "metadata": {
  "kernelspec": {
   "display_name": "Python 3",
   "language": "python",
   "name": "python3"
  },
  "language_info": {
   "codemirror_mode": {
    "name": "ipython",
    "version": 3
   },
   "file_extension": ".py",
   "mimetype": "text/x-python",
   "name": "python",
   "nbconvert_exporter": "python",
   "pygments_lexer": "ipython3",
   "version": "3.7.7"
  }
 },
 "nbformat": 4,
 "nbformat_minor": 4
}
